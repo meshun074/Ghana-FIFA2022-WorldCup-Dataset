{
 "cells": [
  {
   "cell_type": "code",
   "execution_count": 7,
   "metadata": {},
   "outputs": [
    {
     "name": "stderr",
     "output_type": "stream",
     "text": [
      "Cloning into 'Ghana-FIFA2022-WorldCup-Dataset'...\n"
     ]
    }
   ],
   "source": [
    "# Download files from github respository\n",
    "!git clone https://github.com/meshun074/Ghana-FIFA2022-WorldCup-Dataset.git"
   ]
  },
  {
   "cell_type": "code",
   "execution_count": 8,
   "metadata": {},
   "outputs": [
    {
     "name": "stdout",
     "output_type": "stream",
     "text": [
      "Collecting twarcNote: you may need to restart the kernel to use updated packages.\n",
      "\n",
      "  Downloading twarc-2.13.0-py3-none-any.whl (60 kB)\n",
      "     --------------------------------------- 60.1/60.1 kB 45.7 kB/s eta 0:00:00\n",
      "Collecting requests-oauthlib>=1.3\n",
      "  Using cached requests_oauthlib-1.3.1-py2.py3-none-any.whl (23 kB)\n",
      "Collecting click-plugins>=1\n",
      "  Downloading click_plugins-1.1.1-py2.py3-none-any.whl (7.5 kB)\n",
      "Requirement already satisfied: python-dateutil>=2.8 in c:\\users\\apex\\anaconda3\\envs\\sentiment\\lib\\site-packages (from twarc) (2.8.2)\n",
      "Collecting tqdm>=4.62\n",
      "  Downloading tqdm-4.65.0-py3-none-any.whl (77 kB)\n",
      "     --------------------------------------- 77.1/77.1 kB 12.6 kB/s eta 0:00:00\n",
      "Collecting click-config-file>=0.6\n",
      "  Downloading click_config_file-0.6.0-py2.py3-none-any.whl (6.0 kB)\n",
      "Collecting click<9,>=7\n",
      "  Downloading click-8.1.3-py3-none-any.whl (96 kB)\n",
      "     ---------------------------------------- 96.6/96.6 kB 6.1 kB/s eta 0:00:00\n",
      "Collecting humanize>=3.9\n",
      "  Downloading humanize-4.6.0-py3-none-any.whl (109 kB)\n",
      "     -------------------------------------- 110.0/110.0 kB 8.6 kB/s eta 0:00:00\n",
      "Requirement already satisfied: colorama in c:\\users\\apex\\anaconda3\\envs\\sentiment\\lib\\site-packages (from click<9,>=7->twarc) (0.4.6)\n",
      "Collecting configobj>=5.0.6\n",
      "  Downloading configobj-5.0.8-py2.py3-none-any.whl (36 kB)\n",
      "Requirement already satisfied: six>=1.5 in c:\\users\\apex\\anaconda3\\envs\\sentiment\\lib\\site-packages (from python-dateutil>=2.8->twarc) (1.16.0)\n",
      "Collecting oauthlib>=3.0.0\n",
      "  Using cached oauthlib-3.2.2-py3-none-any.whl (151 kB)\n",
      "Collecting requests>=2.0.0\n",
      "  Using cached requests-2.28.2-py3-none-any.whl (62 kB)\n",
      "Collecting charset-normalizer<4,>=2\n",
      "  Downloading charset_normalizer-3.1.0-cp39-cp39-win_amd64.whl (97 kB)\n",
      "     ---------------------------------------- 97.1/97.1 kB 5.7 kB/s eta 0:00:00\n",
      "Collecting urllib3<1.27,>=1.21.1\n",
      "  Downloading urllib3-1.26.15-py2.py3-none-any.whl (140 kB)\n",
      "     -------------------------------------- 140.9/140.9 kB 6.7 kB/s eta 0:00:00\n",
      "Requirement already satisfied: certifi>=2017.4.17 in c:\\users\\apex\\anaconda3\\envs\\sentiment\\lib\\site-packages (from requests>=2.0.0->requests-oauthlib>=1.3->twarc) (2022.12.7)\n",
      "Collecting idna<4,>=2.5\n",
      "  Using cached idna-3.4-py3-none-any.whl (61 kB)\n",
      "Installing collected packages: urllib3, tqdm, oauthlib, idna, humanize, configobj, click, charset-normalizer, requests, click-plugins, click-config-file, requests-oauthlib, twarc\n",
      "Successfully installed charset-normalizer-3.1.0 click-8.1.3 click-config-file-0.6.0 click-plugins-1.1.1 configobj-5.0.8 humanize-4.6.0 idna-3.4 oauthlib-3.2.2 requests-2.28.2 requests-oauthlib-1.3.1 tqdm-4.65.0 twarc-2.13.0 urllib3-1.26.15\n"
     ]
    }
   ],
   "source": [
    "#install twarc \n",
    "%pip install twarc"
   ]
  },
  {
   "cell_type": "code",
   "execution_count": 11,
   "metadata": {},
   "outputs": [
    {
     "name": "stdout",
     "output_type": "stream",
     "text": [
      "Collecting pandas\n",
      "  Downloading pandas-1.5.3-cp39-cp39-win_amd64.whl (10.9 MB)\n",
      "     -------------------------------------- 10.9/10.9 MB 122.2 kB/s eta 0:00:00\n",
      "Requirement already satisfied: python-dateutil>=2.8.1 in c:\\users\\apex\\anaconda3\\envs\\sentiment\\lib\\site-packages (from pandas) (2.8.2)\n",
      "Collecting pytz>=2020.1\n",
      "  Using cached pytz-2022.7.1-py2.py3-none-any.whl (499 kB)\n",
      "Collecting numpy>=1.20.3\n",
      "  Downloading numpy-1.24.2-cp39-cp39-win_amd64.whl (14.9 MB)\n",
      "     --------------------------------------- 14.9/14.9 MB 94.5 kB/s eta 0:00:00\n",
      "Requirement already satisfied: six>=1.5 in c:\\users\\apex\\anaconda3\\envs\\sentiment\\lib\\site-packages (from python-dateutil>=2.8.1->pandas) (1.16.0)\n",
      "Installing collected packages: pytz, numpy, pandas\n",
      "Successfully installed numpy-1.24.2 pandas-1.5.3 pytz-2022.7.1\n",
      "Note: you may need to restart the kernel to use updated packages.\n"
     ]
    }
   ],
   "source": [
    "#Install pandas\n",
    "%pip install pandas"
   ]
  },
  {
   "cell_type": "code",
   "execution_count": 2,
   "metadata": {},
   "outputs": [
    {
     "name": "stderr",
     "output_type": "stream",
     "text": [
      "c:\\Users\\APEX\\anaconda3\\envs\\sentiment\\lib\\site-packages\\tqdm\\auto.py:21: TqdmWarning: IProgress not found. Please update jupyter and ipywidgets. See https://ipywidgets.readthedocs.io/en/stable/user_install.html\n",
      "  from .autonotebook import tqdm as notebook_tqdm\n"
     ]
    }
   ],
   "source": [
    "from twarc import Twarc\n",
    "import pandas as pd\n",
    "import  json\n",
    "import csv"
   ]
  },
  {
   "cell_type": "code",
   "execution_count": 20,
   "metadata": {},
   "outputs": [],
   "source": [
    "#declare your variables for twitter API keys\n",
    "accesstoken = \"\" #string\n",
    "accesstokensecret =\"\" #string\n",
    "consumerkey = \"\" #string\n",
    "consumersecret =\"\" #string"
   ]
  },
  {
   "cell_type": "code",
   "execution_count": 21,
   "metadata": {},
   "outputs": [],
   "source": [
    "T = Twarc(consumerkey, consumersecret, accesstoken, accesstokensecret)"
   ]
  },
  {
   "cell_type": "code",
   "execution_count": 3,
   "metadata": {},
   "outputs": [],
   "source": [
    "#variable for reading and storing tweets and tweet ids\n",
    "# idsfile= \"__tweetidsfile____\" \n",
    "# tweetfile= \"___outputfilename___\" \n",
    "idsfile= \"___tweetidsfilename___\" \n",
    "tweetfile= \"___outputfilename___\" \n",
    "ids = []\n",
    "HydratedTweets=[]"
   ]
  },
  {
   "cell_type": "code",
   "execution_count": 4,
   "metadata": {},
   "outputs": [],
   "source": [
    "#Reading ids\n",
    "with open(idsfile, \"r\") as Ifile: \n",
    "     ids=Ifile.read().split()   \n",
    "#determining the length of the ids\n",
    "count = 0\n",
    "last_index =len(ids) \n",
    "\n",
    "\n",
    "#retrieving tweet\n",
    "for tweet in T.hydrate(iter(ids)): \n",
    "    HydratedTweets.append(tweet)  \n",
    "    count += 1      \n",
    "    if (count == last_index): \n",
    "        break\n",
    "\n",
    "print(\"Number of IDs: \" + str(len(ids)))\n",
    "\n",
    "with open('JsonFile.txt', 'w') as outfile: #open json file\n",
    "    json.dump(HydratedTweets, outfile)"
   ]
  },
  {
   "cell_type": "code",
   "execution_count": null,
   "metadata": {},
   "outputs": [],
   "source": [
    "fileInput = \"JsonFile.txt\"\n",
    "inputfile = open(fileInput) #open json file\n",
    "outputFile = open(tweetfile, 'w') #load csv file\n",
    "data = json.load(inputfile) #load json content\n",
    "inputfile.close() #close the input file\n",
    "output = csv.writer(outputFile) #create a csv.write\n",
    "output.writerow(data[0].keys()) # header row\n",
    "for row in data:\n",
    "    output.writerow(row.values()) #values row"
   ]
  }
 ],
 "metadata": {
  "kernelspec": {
   "display_name": "sentiment",
   "language": "python",
   "name": "python3"
  },
  "language_info": {
   "codemirror_mode": {
    "name": "ipython",
    "version": 3
   },
   "file_extension": ".py",
   "mimetype": "text/x-python",
   "name": "python",
   "nbconvert_exporter": "python",
   "pygments_lexer": "ipython3",
   "version": "3.9.16"
  },
  "orig_nbformat": 4,
  "vscode": {
   "interpreter": {
    "hash": "0ff1e8f6556e0eb05a8266e4a9a1c6e0c85579d36b8bb4484df75bbfd9038181"
   }
  }
 },
 "nbformat": 4,
 "nbformat_minor": 2
}
