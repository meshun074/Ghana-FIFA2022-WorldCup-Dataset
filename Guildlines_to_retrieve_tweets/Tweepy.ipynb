{
 "cells": [
  {
   "cell_type": "code",
   "execution_count": null,
   "metadata": {},
   "outputs": [],
   "source": [
    "# Download files from github respository\n",
    "!git clone https://github.com/meshun074/Ghana-FIFA2022-WorldCup-Dataset.git"
   ]
  },
  {
   "cell_type": "code",
   "execution_count": 2,
   "metadata": {},
   "outputs": [
    {
     "name": "stdout",
     "output_type": "stream",
     "text": [
      "Collecting tweepy\n",
      "  Using cached tweepy-4.13.0-py3-none-any.whl (102 kB)\n",
      "Requirement already satisfied: requests<3,>=2.27.0 in c:\\users\\apex\\anaconda3\\envs\\sentiment\\lib\\site-packages (from tweepy) (2.28.2)\n",
      "Requirement already satisfied: requests-oauthlib<2,>=1.2.0 in c:\\users\\apex\\anaconda3\\envs\\sentiment\\lib\\site-packages (from tweepy) (1.3.1)\n",
      "Requirement already satisfied: oauthlib<4,>=3.2.0 in c:\\users\\apex\\anaconda3\\envs\\sentiment\\lib\\site-packages (from tweepy) (3.2.2)\n",
      "Requirement already satisfied: idna<4,>=2.5 in c:\\users\\apex\\anaconda3\\envs\\sentiment\\lib\\site-packages (from requests<3,>=2.27.0->tweepy) (3.4)\n",
      "Requirement already satisfied: urllib3<1.27,>=1.21.1 in c:\\users\\apex\\anaconda3\\envs\\sentiment\\lib\\site-packages (from requests<3,>=2.27.0->tweepy) (1.26.15)\n",
      "Requirement already satisfied: charset-normalizer<4,>=2 in c:\\users\\apex\\anaconda3\\envs\\sentiment\\lib\\site-packages (from requests<3,>=2.27.0->tweepy) (3.1.0)\n",
      "Requirement already satisfied: certifi>=2017.4.17 in c:\\users\\apex\\anaconda3\\envs\\sentiment\\lib\\site-packages (from requests<3,>=2.27.0->tweepy) (2022.12.7)\n",
      "Installing collected packages: tweepy\n",
      "Successfully installed tweepy-4.13.0\n",
      "Note: you may need to restart the kernel to use updated packages.\n"
     ]
    }
   ],
   "source": [
    "#install tweepy \n",
    "%pip install tweepy"
   ]
  },
  {
   "cell_type": "code",
   "execution_count": null,
   "metadata": {},
   "outputs": [],
   "source": [
    "#Install pandas\n",
    "%pip install pandas"
   ]
  },
  {
   "cell_type": "code",
   "execution_count": 3,
   "metadata": {},
   "outputs": [],
   "source": [
    "import pandas as pd\n",
    "import tweepy\n",
    "import  json\n",
    "import csv"
   ]
  },
  {
   "cell_type": "code",
   "execution_count": 4,
   "metadata": {},
   "outputs": [],
   "source": [
    "#Declare your variables for twitter API keys\n",
    "api_key = ''\n",
    "api_key_secret =''\n",
    "\n",
    "access_token = ''\n",
    "access_token_secret = ''"
   ]
  },
  {
   "cell_type": "code",
   "execution_count": 5,
   "metadata": {},
   "outputs": [],
   "source": [
    "# authentication\n",
    "auth = tweepy.OAuthHandler(api_key, api_key_secret)\n",
    "auth.set_access_token(access_token, access_token_secret)\n",
    "\n",
    "api = tweepy.API(auth)\n"
   ]
  },
  {
   "cell_type": "code",
   "execution_count": 7,
   "metadata": {},
   "outputs": [],
   "source": [
    "#variable for reading and storing tweets and tweet ids\n",
    "idsfile= \"___tweetidsfilename___\" \n",
    "tweetfile= \"___outputfilename___\" \n",
    "ids = []\n",
    "Tweets=[]"
   ]
  },
  {
   "cell_type": "code",
   "execution_count": 1,
   "metadata": {},
   "outputs": [],
   "source": [
    "#Reading ids\n",
    "with open(idsfile, \"r\") as Ifile: \n",
    "     ids=Ifile.read().split()   \n",
    "#determining the length of the ids\n",
    "count = 0\n",
    "last_index =len(ids) \n",
    "\n",
    "\n",
    "#retrieving tweet\n",
    "for tweet in api.get_status(iter(ids)):\n",
    "    Tweets.append(tweet)  \n",
    "    count += 1      \n",
    "    if (count == last_index): \n",
    "        break\n",
    "\n",
    "print(\"Number of IDs: \" + str(len(ids)))\n",
    "\n",
    "with open('JsonFile.txt', 'w') as outfile: #open json file\n",
    "    json.dump(Tweets, outfile)"
   ]
  },
  {
   "cell_type": "code",
   "execution_count": null,
   "metadata": {},
   "outputs": [],
   "source": [
    "fileInput = \"JsonFile.txt\"\n",
    "inputfile = open(fileInput) #open json file\n",
    "outputFile = open(tweetfile, 'w') #load csv file\n",
    "data = json.load(inputfile) #load json content\n",
    "inputfile.close() #close the input file\n",
    "output = csv.writer(outputFile) #create a csv.write\n",
    "output.writerow(data[0].keys()) # header row\n",
    "for row in data:\n",
    "    output.writerow(row.values()) #values row"
   ]
  }
 ],
 "metadata": {
  "kernelspec": {
   "display_name": "sentiment",
   "language": "python",
   "name": "python3"
  },
  "language_info": {
   "codemirror_mode": {
    "name": "ipython",
    "version": 3
   },
   "file_extension": ".py",
   "mimetype": "text/x-python",
   "name": "python",
   "nbconvert_exporter": "python",
   "pygments_lexer": "ipython3",
   "version": "3.9.16"
  },
  "orig_nbformat": 4
 },
 "nbformat": 4,
 "nbformat_minor": 2
}
